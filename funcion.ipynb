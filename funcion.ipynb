{
 "cells": [
  {
   "cell_type": "code",
   "execution_count": 1,
   "metadata": {},
   "outputs": [],
   "source": [
    "import pandas as pd"
   ]
  },
  {
   "cell_type": "code",
   "execution_count": 2,
   "metadata": {},
   "outputs": [],
   "source": [
    "from pycoingecko import CoinGeckoAPI\n",
    "cg = CoinGeckoAPI()"
   ]
  },
  {
   "cell_type": "code",
   "execution_count": 3,
   "metadata": {},
   "outputs": [],
   "source": [
    "def cripto(cripto):\n",
    "    moneda = cg.get_coin_market_chart_range_by_id(cripto, 'usd', '1577761200', '1691798400')\n",
    "    moneda = pd.DataFrame(moneda)\n",
    "    columns_to_drop = ['market_caps', 'total_volumes']\n",
    "    moneda.drop(columns=columns_to_drop, axis=1, inplace=True)\n",
    "    moneda[['date', 'price']] = pd.DataFrame(moneda['prices'].tolist(), columns=['date', 'price'])\n",
    "    moneda = moneda.drop(columns=['prices'])\n",
    "    moneda['date'] = pd.to_datetime(moneda['date'], unit='ms')\n",
    "    nombre_archivo = f'datos_csv/{cripto}_coin.csv'\n",
    "    moneda.to_csv(nombre_archivo, index=False)\n",
    "    return moneda"
   ]
  },
  {
   "cell_type": "markdown",
   "metadata": {},
   "source": [
    "Top 5 criptomonedas según la capitalización del mercado"
   ]
  },
  {
   "cell_type": "code",
   "execution_count": 32,
   "metadata": {},
   "outputs": [],
   "source": [
    "bitcoin = cripto('bitcoin')\n",
    "ethereum = cripto('ethereum')\n",
    "tether = cripto('tether')\n",
    "bnb = cripto('binancecoin')\n",
    "xrp = cripto('ripple')"
   ]
  },
  {
   "cell_type": "markdown",
   "metadata": {},
   "source": [
    "Top 3 criptomonedas estables"
   ]
  },
  {
   "cell_type": "code",
   "execution_count": 33,
   "metadata": {},
   "outputs": [],
   "source": [
    "tether = cripto('tether')\n",
    "usd_coin = cripto('usd-coin')\n",
    "dai = cripto('dai')"
   ]
  },
  {
   "cell_type": "code",
   "execution_count": 34,
   "metadata": {},
   "outputs": [],
   "source": [
    "polygon = cripto('matic-network')"
   ]
  },
  {
   "cell_type": "markdown",
   "metadata": {},
   "source": [
    "Las peores y mejores inversiones que se pudo haber hecho en el último año"
   ]
  },
  {
   "cell_type": "code",
   "execution_count": 4,
   "metadata": {},
   "outputs": [],
   "source": [
    "def cripto(cripto):\n",
    "    moneda = cg.get_coin_market_chart_range_by_id(cripto, 'usd', '1690934400', '1692144000')\n",
    "    moneda = pd.DataFrame(moneda)\n",
    "    columns_to_drop = ['market_caps', 'total_volumes']\n",
    "    moneda.drop(columns=columns_to_drop, axis=1, inplace=True)\n",
    "    moneda[['date', 'price']] = pd.DataFrame(moneda['prices'].tolist(), columns=['date', 'price'])\n",
    "    moneda = moneda.drop(columns=['prices'])\n",
    "    moneda['date'] = pd.to_datetime(moneda['date'], unit='ms')\n",
    "    nombre_archivo = f'datos_csv/{cripto}_coin.csv'\n",
    "    moneda.to_csv(nombre_archivo, index=False)\n",
    "    return moneda"
   ]
  },
  {
   "cell_type": "code",
   "execution_count": 36,
   "metadata": {},
   "outputs": [],
   "source": [
    "#Mejores\n",
    "grove = cripto('grove')\n",
    "dogecola = cripto('dogecola')\n",
    "#Peores\n",
    "wall_street_baby = cripto('wall-street-baby')\n",
    "cryn = cripto('cryn')"
   ]
  },
  {
   "cell_type": "code",
   "execution_count": 9,
   "metadata": {},
   "outputs": [],
   "source": [
    "#subida\n",
    "taraxa = cripto('taraxa')\n",
    "#bajada\n",
    "dust_protocol = cripto('dust-protocol')"
   ]
  },
  {
   "cell_type": "code",
   "execution_count": 10,
   "metadata": {},
   "outputs": [],
   "source": [
    "def leer_csv(nombre):\n",
    "    df = pd.read_csv(f'datos_csv\\{nombre}_coin.csv')\n",
    "    return df\n",
    "    \n",
    "bitcoin = leer_csv('bitcoin')"
   ]
  }
 ],
 "metadata": {
  "kernelspec": {
   "display_name": "venv",
   "language": "python",
   "name": "python3"
  },
  "language_info": {
   "codemirror_mode": {
    "name": "ipython",
    "version": 3
   },
   "file_extension": ".py",
   "mimetype": "text/x-python",
   "name": "python",
   "nbconvert_exporter": "python",
   "pygments_lexer": "ipython3",
   "version": "3.11.2"
  },
  "orig_nbformat": 4
 },
 "nbformat": 4,
 "nbformat_minor": 2
}
