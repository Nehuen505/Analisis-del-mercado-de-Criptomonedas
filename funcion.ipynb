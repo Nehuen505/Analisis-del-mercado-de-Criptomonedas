{
 "cells": [
  {
   "cell_type": "code",
   "execution_count": 29,
   "metadata": {},
   "outputs": [],
   "source": [
    "import pandas as pd"
   ]
  },
  {
   "cell_type": "code",
   "execution_count": 30,
   "metadata": {},
   "outputs": [],
   "source": [
    "from pycoingecko import CoinGeckoAPI\n",
    "cg = CoinGeckoAPI()"
   ]
  },
  {
   "cell_type": "code",
   "execution_count": 31,
   "metadata": {},
   "outputs": [],
   "source": [
    "def cripto(cripto):\n",
    "    moneda = cg.get_coin_market_chart_range_by_id(cripto, 'usd', '1577761200', '1691798400')\n",
    "    moneda = pd.DataFrame(moneda)\n",
    "    columns_to_drop = ['market_caps', 'total_volumes']\n",
    "    moneda.drop(columns=columns_to_drop, axis=1, inplace=True)\n",
    "    moneda[['date', 'price']] = pd.DataFrame(moneda['prices'].tolist(), columns=['date', 'price'])\n",
    "    moneda = moneda.drop(columns=['prices'])\n",
    "    moneda['date'] = pd.to_datetime(moneda['date'], unit='ms')\n",
    "    nombre_archivo = f'datos_csv/{cripto}_coin.csv'\n",
    "    moneda.to_csv(nombre_archivo, index=False)\n",
    "    return moneda"
   ]
  },
  {
   "cell_type": "markdown",
   "metadata": {},
   "source": [
    "Top 5 criptomonedas según la capitalización del mercado"
   ]
  },
  {
   "cell_type": "code",
   "execution_count": 32,
   "metadata": {},
   "outputs": [],
   "source": [
    "bitcoin = cripto('bitcoin')\n",
    "ethereum = cripto('ethereum')\n",
    "tether = cripto('tether')\n",
    "bnb = cripto('binancecoin')\n",
    "xrp = cripto('ripple')"
   ]
  },
  {
   "cell_type": "markdown",
   "metadata": {},
   "source": [
    "Top 3 criptomonedas estables"
   ]
  },
  {
   "cell_type": "code",
   "execution_count": 33,
   "metadata": {},
   "outputs": [],
   "source": [
    "tether = cripto('tether')\n",
    "usd_coin = cripto('usd-coin')\n",
    "dai = cripto('dai')"
   ]
  },
  {
   "cell_type": "code",
   "execution_count": 34,
   "metadata": {},
   "outputs": [],
   "source": [
    "polygon = cripto('matic-network')"
   ]
  },
  {
   "cell_type": "markdown",
   "metadata": {},
   "source": [
    "Las peores y mejores inversiones que se pudo haber hecho en el último año"
   ]
  },
  {
   "cell_type": "code",
   "execution_count": 35,
   "metadata": {},
   "outputs": [],
   "source": [
    "def cripto(cripto):\n",
    "    moneda = cg.get_coin_market_chart_range_by_id(cripto, 'usd', '1660262400', '1691798400')\n",
    "    moneda = pd.DataFrame(moneda)\n",
    "    columns_to_drop = ['market_caps', 'total_volumes']\n",
    "    moneda.drop(columns=columns_to_drop, axis=1, inplace=True)\n",
    "    moneda[['date', 'price']] = pd.DataFrame(moneda['prices'].tolist(), columns=['date', 'price'])\n",
    "    moneda = moneda.drop(columns=['prices'])\n",
    "    moneda['date'] = pd.to_datetime(moneda['date'], unit='ms')\n",
    "    nombre_archivo = f'datos_csv/{cripto}_coin.csv'\n",
    "    moneda.to_csv(nombre_archivo, index=False)\n",
    "    return moneda"
   ]
  },
  {
   "cell_type": "code",
   "execution_count": 36,
   "metadata": {},
   "outputs": [],
   "source": [
    "#Mejores\n",
    "grove = cripto('grove')\n",
    "dogecola = cripto('dogecola')\n",
    "#Peores\n",
    "wall_street_baby = cripto('wall-street-baby')\n",
    "cryn = cripto('cryn')"
   ]
  },
  {
   "cell_type": "code",
   "execution_count": 37,
   "metadata": {},
   "outputs": [],
   "source": [
    "def leer_csv(nombre):\n",
    "    df = pd.read_csv(f'datos_csv\\{nombre}_coin.csv')\n",
    "    return df\n",
    "    \n",
    "bitcoin = leer_csv('bitcoin')"
   ]
  },
  {
   "cell_type": "code",
   "execution_count": 40,
   "metadata": {},
   "outputs": [
    {
     "data": {
      "text/html": [
       "<div>\n",
       "<style scoped>\n",
       "    .dataframe tbody tr th:only-of-type {\n",
       "        vertical-align: middle;\n",
       "    }\n",
       "\n",
       "    .dataframe tbody tr th {\n",
       "        vertical-align: top;\n",
       "    }\n",
       "\n",
       "    .dataframe thead th {\n",
       "        text-align: right;\n",
       "    }\n",
       "</style>\n",
       "<table border=\"1\" class=\"dataframe\">\n",
       "  <thead>\n",
       "    <tr style=\"text-align: right;\">\n",
       "      <th></th>\n",
       "      <th>date</th>\n",
       "      <th>price</th>\n",
       "    </tr>\n",
       "  </thead>\n",
       "  <tbody>\n",
       "    <tr>\n",
       "      <th>0</th>\n",
       "      <td>2023-04-27</td>\n",
       "      <td>1.487766e-08</td>\n",
       "    </tr>\n",
       "    <tr>\n",
       "      <th>1</th>\n",
       "      <td>2023-04-28</td>\n",
       "      <td>1.487766e-08</td>\n",
       "    </tr>\n",
       "    <tr>\n",
       "      <th>2</th>\n",
       "      <td>2023-04-29</td>\n",
       "      <td>3.051870e-08</td>\n",
       "    </tr>\n",
       "    <tr>\n",
       "      <th>3</th>\n",
       "      <td>2023-04-30</td>\n",
       "      <td>8.284098e-08</td>\n",
       "    </tr>\n",
       "    <tr>\n",
       "      <th>4</th>\n",
       "      <td>2023-05-01</td>\n",
       "      <td>9.866318e-08</td>\n",
       "    </tr>\n",
       "    <tr>\n",
       "      <th>...</th>\n",
       "      <td>...</td>\n",
       "      <td>...</td>\n",
       "    </tr>\n",
       "    <tr>\n",
       "      <th>103</th>\n",
       "      <td>2023-08-08</td>\n",
       "      <td>6.484169e-09</td>\n",
       "    </tr>\n",
       "    <tr>\n",
       "      <th>104</th>\n",
       "      <td>2023-08-09</td>\n",
       "      <td>6.466463e-09</td>\n",
       "    </tr>\n",
       "    <tr>\n",
       "      <th>105</th>\n",
       "      <td>2023-08-10</td>\n",
       "      <td>6.324401e-09</td>\n",
       "    </tr>\n",
       "    <tr>\n",
       "      <th>106</th>\n",
       "      <td>2023-08-11</td>\n",
       "      <td>6.078765e-09</td>\n",
       "    </tr>\n",
       "    <tr>\n",
       "      <th>107</th>\n",
       "      <td>2023-08-12</td>\n",
       "      <td>6.127459e-09</td>\n",
       "    </tr>\n",
       "  </tbody>\n",
       "</table>\n",
       "<p>108 rows × 2 columns</p>\n",
       "</div>"
      ],
      "text/plain": [
       "          date         price\n",
       "0   2023-04-27  1.487766e-08\n",
       "1   2023-04-28  1.487766e-08\n",
       "2   2023-04-29  3.051870e-08\n",
       "3   2023-04-30  8.284098e-08\n",
       "4   2023-05-01  9.866318e-08\n",
       "..         ...           ...\n",
       "103 2023-08-08  6.484169e-09\n",
       "104 2023-08-09  6.466463e-09\n",
       "105 2023-08-10  6.324401e-09\n",
       "106 2023-08-11  6.078765e-09\n",
       "107 2023-08-12  6.127459e-09\n",
       "\n",
       "[108 rows x 2 columns]"
      ]
     },
     "execution_count": 40,
     "metadata": {},
     "output_type": "execute_result"
    }
   ],
   "source": [
    "wall_street_baby"
   ]
  }
 ],
 "metadata": {
  "kernelspec": {
   "display_name": "venv",
   "language": "python",
   "name": "python3"
  },
  "language_info": {
   "codemirror_mode": {
    "name": "ipython",
    "version": 3
   },
   "file_extension": ".py",
   "mimetype": "text/x-python",
   "name": "python",
   "nbconvert_exporter": "python",
   "pygments_lexer": "ipython3",
   "version": "3.11.2"
  },
  "orig_nbformat": 4
 },
 "nbformat": 4,
 "nbformat_minor": 2
}
